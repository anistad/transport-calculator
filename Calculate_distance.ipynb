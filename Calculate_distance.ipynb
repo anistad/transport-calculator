{
 "cells": [
  {
   "cell_type": "markdown",
   "metadata": {},
   "source": [
    "# Beregning av transportdistanser mellom to steder \n",
    "Denne notebooken benytter Google maps til å kalkulere transportdistansen mellom to ulike steder. \n",
    "Dette gjør det raskere og enklere å beregne distansen mellom en rekke steder og kombinasjoner av disse. "
   ]
  },
  {
   "cell_type": "markdown",
   "metadata": {},
   "source": [
    "Importerer noen pakker som trengs "
   ]
  },
  {
   "cell_type": "code",
   "execution_count": 3,
   "metadata": {},
   "outputs": [],
   "source": [
    "import pandas as pd \n",
    "from itertools import tee \n",
    "import googlemaps"
   ]
  },
  {
   "cell_type": "markdown",
   "metadata": {},
   "source": [
    "Må ha en API nøkkel til Google Maps "
   ]
  },
  {
   "cell_type": "code",
   "execution_count": 4,
   "metadata": {},
   "outputs": [],
   "source": [
    "#Perform request to use the Google Maps API web service\n",
    "#API_key = #enter Google Maps API key, \n",
    "gmaps = googlemaps.Client(key=API_key)"
   ]
  },
  {
   "cell_type": "markdown",
   "metadata": {},
   "source": [
    "Definerer funksjon for å beregne longitude og latitude"
   ]
  },
  {
   "cell_type": "code",
   "execution_count": 5,
   "metadata": {},
   "outputs": [],
   "source": [
    "def get_long_lat(adr_start, adr_end): \n",
    "    lng_start = [gmaps.geocode(x)[0]['geometry']['location']['lng'] for x in adr_start]\n",
    "    lat_start = [gmaps.geocode(x)[0]['geometry']['location']['lat'] for x in adr_start]\n",
    "    lng_end = [gmaps.geocode(x)[0]['geometry']['location']['lng'] for x in adr_end]\n",
    "    lat_end = [gmaps.geocode(x)[0]['geometry']['location']['lat'] for x in adr_end]\n",
    "    \n",
    "    lat_lng_start = list(zip(lat_start, lng_start))\n",
    "    lat_lng_end = list(zip(lat_end, lng_end))\n",
    "    \n",
    "    return lat_lng_start, lat_lng_end"
   ]
  },
  {
   "cell_type": "markdown",
   "metadata": {},
   "source": [
    "Funksjon for å beregne distanse og en matrise av ulike distanser mellom start og slutt punkt "
   ]
  },
  {
   "cell_type": "code",
   "execution_count": 6,
   "metadata": {},
   "outputs": [],
   "source": [
    "def calculate_distance(start_point, end_point):\n",
    "    result = gmaps.distance_matrix(start_point, end_point, mode='driving')[\"rows\"][0][\"elements\"][0]\n",
    "    return result#['distance']['text']"
   ]
  },
  {
   "cell_type": "code",
   "execution_count": 7,
   "metadata": {},
   "outputs": [],
   "source": [
    "def calculate_distance_matrix(start_adresser, mål_adresser): \n",
    "    start, end = get_long_lat(start_adresser, mål_adresser)\n",
    "    \n",
    "    matrix = list()\n",
    "    for start_point in start: \n",
    "        temp = list() \n",
    "        for end_point in end: \n",
    "            distance = calculate_distance(start_point, end_point)['distance']['text'].split()\n",
    "            \n",
    "            if distance[1] == 'm': \n",
    "                dist = 1\n",
    "            else: \n",
    "                dist = distance[0]\n",
    "            \n",
    "            temp.append(dist)\n",
    "            \n",
    "        matrix.append(temp)   \n",
    "    \n",
    "    res_mat = pd.DataFrame(matrix)\n",
    "    \n",
    "    res_mat.index = start_adresser \n",
    "    res_mat.columns = mål_adresser \n",
    "    \n",
    "    return res_mat "
   ]
  },
  {
   "cell_type": "markdown",
   "metadata": {},
   "source": [
    "## Utregning transportdistanser Nord "
   ]
  },
  {
   "cell_type": "code",
   "execution_count": 8,
   "metadata": {},
   "outputs": [],
   "source": [
    "start_adresser = ['Alta, Norway', 'Lakselv, Norway', 'Laurasætra Motorcrossklubb, Balsfjord', 'Tromsø, Norway', 'Vadsø, Norway', 'Kirkenes, Norway', 'Nordreisa, Norway', 'Vardø, Norway', 'Karasjok, Norway', 'Hammerfest, Norway', 'Kautokeino, Norway', 'Harstad, Norway', 'Berlevåg kommunehus, Norway', 'Tana, Norway', 'Manndalen, Norway']\n",
    "mål_adresser = ['Lakselv, Norway', 'Alta, Norway', 'Vardø, Norway', 'Vadsø, Norway', 'Nordreisa, Norway', 'Nordreisa, Norway', 'Kirkenes, Norway', 'Kirkenes, Norway']\n",
    "res = calculate_distance_matrix(start_adresser, mål_adresser)\n",
    "res.to_excel('output.xlsx')"
   ]
  },
  {
   "cell_type": "markdown",
   "metadata": {},
   "source": [
    "## Utregning transportdistanser Midt "
   ]
  },
  {
   "cell_type": "code",
   "execution_count": 9,
   "metadata": {},
   "outputs": [],
   "source": [
    "start_adresser = ['Frosta, Norway', 'Leirfjord kirke, Norway', 'Øvre Årdal, Norway', 'Hell, Norway', 'Selbu, Norway', 'Oslo, Norway', 'Bodø, Norway', 'Hemne, Norway', 'Oppdal, Norway', 'Hemnes, Norway', 'Surnadal kulturhus, Norway', 'Inderøy, Norway', 'Sykkylven, Norway', 'Mosjøen, Norway', 'Averøy, Norway', 'Molde, Norway', 'Røros, Norway', 'Ørland, Norway', 'Torsbustaden, Norway', 'Østersund, Sweden', 'Trondheim, Norway', 'Namdalen, Norway', 'Tydal, Norway', 'Melhus, Norway', 'Gauldal, Norway', 'Stranda, Norway', 'Snillfjord, Norway', 'Giske kirke, Norway', 'Vinstra, Norway', 'Meråker, Norway', 'Lillehammer, Norway', 'Sel, Norway', 'Kristiandsund, Norway']\n",
    "mål_adresser = ['Molde, Norway', 'Hell, Norway', 'Mosjøen, Norway', 'Haltdalen, Norway', 'Trondheim, Norway']\n",
    "res = calculate_distance_matrix(start_adresser, mål_adresser)\n",
    "res.to_excel('output.xlsx')"
   ]
  },
  {
   "cell_type": "code",
   "execution_count": 10,
   "metadata": {},
   "outputs": [],
   "source": [
    "\n",
    "start, slutt = get_long_lat(start_adresser, mål_adresser)"
   ]
  },
  {
   "cell_type": "code",
   "execution_count": 11,
   "metadata": {},
   "outputs": [
    {
     "name": "stdout",
     "output_type": "stream",
     "text": [
      "Frosta, Norway\n",
      "{'distance': {'text': '289 km', 'value': 288554}, 'duration': {'text': '4 hours 41 mins', 'value': 16889}, 'status': 'OK'}\n",
      "Leirfjord kirke, Norway\n",
      "{'distance': {'text': '650 km', 'value': 649750}, 'duration': {'text': '9 hours 47 mins', 'value': 35216}, 'status': 'OK'}\n",
      "Øvre Årdal, Norway\n",
      "{'distance': {'text': '343 km', 'value': 343093}, 'duration': {'text': '6 hours 8 mins', 'value': 22070}, 'status': 'OK'}\n",
      "Hell, Norway\n",
      "{'distance': {'text': '249 km', 'value': 249101}, 'duration': {'text': '4 hours 4 mins', 'value': 14662}, 'status': 'OK'}\n",
      "Selbu, Norway\n",
      "{'distance': {'text': '285 km', 'value': 284515}, 'duration': {'text': '4 hours 38 mins', 'value': 16685}, 'status': 'OK'}\n",
      "Oslo, Norway\n",
      "{'distance': {'text': '496 km', 'value': 495854}, 'duration': {'text': '7 hours 13 mins', 'value': 25980}, 'status': 'OK'}\n",
      "Bodø, Norway\n",
      "{'distance': {'text': '919 km', 'value': 919174}, 'duration': {'text': '13 hours 40 mins', 'value': 49199}, 'status': 'OK'}\n",
      "Hemne, Norway\n",
      "{'distance': {'text': '134 km', 'value': 133819}, 'duration': {'text': '2 hours 31 mins', 'value': 9073}, 'status': 'OK'}\n",
      "Oppdal, Norway\n",
      "{'distance': {'text': '156 km', 'value': 155597}, 'duration': {'text': '2 hours 22 mins', 'value': 8492}, 'status': 'OK'}\n",
      "Hemnes, Norway\n",
      "{'distance': {'text': '672 km', 'value': 672132}, 'duration': {'text': '10 hours 19 mins', 'value': 37132}, 'status': 'OK'}\n",
      "Surnadal kulturhus, Norway\n",
      "{'distance': {'text': '113 km', 'value': 113073}, 'duration': {'text': '2 hours 16 mins', 'value': 8138}, 'status': 'OK'}\n",
      "Inderøy, Norway\n",
      "{'distance': {'text': '337 km', 'value': 337278}, 'duration': {'text': '5 hours 25 mins', 'value': 19494}, 'status': 'OK'}\n",
      "Sykkylven, Norway\n",
      "{'distance': {'text': '78.2 km', 'value': 78223}, 'duration': {'text': '2 hours 33 mins', 'value': 9181}, 'status': 'OK'}\n",
      "Mosjøen, Norway\n",
      "{'distance': {'text': '605 km', 'value': 605436}, 'duration': {'text': '9 hours 9 mins', 'value': 32914}, 'status': 'OK'}\n",
      "Averøy, Norway\n",
      "{'distance': {'text': '65.3 km', 'value': 65300}, 'duration': {'text': '1 hour 2 mins', 'value': 3697}, 'status': 'OK'}\n",
      "Molde, Norway\n",
      "{'distance': {'text': '1 m', 'value': 0}, 'duration': {'text': '1 min', 'value': 0}, 'status': 'OK'}\n",
      "Røros, Norway\n",
      "{'distance': {'text': '308 km', 'value': 308104}, 'duration': {'text': '4 hours 31 mins', 'value': 16263}, 'status': 'OK'}\n",
      "Ørland, Norway\n",
      "{'distance': {'text': '260 km', 'value': 259773}, 'duration': {'text': '4 hours 56 mins', 'value': 17743}, 'status': 'OK'}\n",
      "Torsbustaden, Norway\n",
      "{'distance': {'text': '297 km', 'value': 296802}, 'duration': {'text': '4 hours 47 mins', 'value': 17224}, 'status': 'OK'}\n",
      "Østersund, Sweden\n",
      "{'distance': {'text': '477 km', 'value': 477116}, 'duration': {'text': '7 hours 17 mins', 'value': 26219}, 'status': 'OK'}\n",
      "Trondheim, Norway\n",
      "{'distance': {'text': '220 km', 'value': 219556}, 'duration': {'text': '3 hours 47 mins', 'value': 13595}, 'status': 'OK'}\n",
      "Namdalen, Norway\n",
      "{'distance': {'text': '496 km', 'value': 496269}, 'duration': {'text': '8 hours 16 mins', 'value': 29764}, 'status': 'OK'}\n",
      "Tydal, Norway\n",
      "{'distance': {'text': '346 km', 'value': 345587}, 'duration': {'text': '5 hours 47 mins', 'value': 20793}, 'status': 'OK'}\n",
      "Melhus, Norway\n",
      "{'distance': {'text': '243 km', 'value': 243364}, 'duration': {'text': '3 hours 45 mins', 'value': 13509}, 'status': 'OK'}\n",
      "Gauldal, Norway\n",
      "{'distance': {'text': '266 km', 'value': 266436}, 'duration': {'text': '4 hours 2 mins', 'value': 14501}, 'status': 'OK'}\n",
      "Stranda, Norway\n",
      "{'distance': {'text': '77.4 km', 'value': 77402}, 'duration': {'text': '2 hours 17 mins', 'value': 8224}, 'status': 'OK'}\n",
      "Snillfjord, Norway\n",
      "{'distance': {'text': '188 km', 'value': 187570}, 'duration': {'text': '3 hours 18 mins', 'value': 11892}, 'status': 'OK'}\n",
      "Giske kirke, Norway\n",
      "{'distance': {'text': '91.9 km', 'value': 91946}, 'duration': {'text': '2 hours 3 mins', 'value': 7388}, 'status': 'OK'}\n",
      "Vinstra, Norway\n",
      "{'distance': {'text': '237 km', 'value': 236839}, 'duration': {'text': '3 hours 55 mins', 'value': 14075}, 'status': 'OK'}\n",
      "Meråker, Norway\n",
      "{'distance': {'text': '298 km', 'value': 297688}, 'duration': {'text': '4 hours 47 mins', 'value': 17217}, 'status': 'OK'}\n",
      "Lillehammer, Norway\n",
      "{'distance': {'text': '316 km', 'value': 315669}, 'duration': {'text': '4 hours 56 mins', 'value': 17761}, 'status': 'OK'}\n",
      "Sel, Norway\n",
      "{'distance': {'text': '197 km', 'value': 197197}, 'duration': {'text': '3 hours 22 mins', 'value': 12143}, 'status': 'OK'}\n",
      "Kristiandsund, Norway\n",
      "{'distance': {'text': '71.6 km', 'value': 71612}, 'duration': {'text': '1 hour 10 mins', 'value': 4175}, 'status': 'OK'}\n"
     ]
    }
   ],
   "source": [
    "i=0\n",
    "for elem in start: \n",
    "    print(start_adresser[i])\n",
    "    i+=1\n",
    "    print(calculate_distance(elem, slutt[0]))"
   ]
  },
  {
   "cell_type": "markdown",
   "metadata": {},
   "source": [
    "## Utregning transportdistanser Vest "
   ]
  },
  {
   "cell_type": "code",
   "execution_count": 12,
   "metadata": {},
   "outputs": [],
   "source": [
    "start_adresser = ['Bybergsanden motocrossbane, Norway', 'Os Mc & Mx Klubb, Norway', 'Elgane Motorsportklubb, Norway', 'Stord Motorsportklubb, Norway', 'Karmøy Motocross Bane, Norway', 'Bømlo Motorsportklubb, Norway', 'Sotra mx klubb, Norway', 'Lyngdal, Norway', 'Kristiansand, Norway', 'Vikedal, Norway', 'Sogndal kulturhus, Norway', 'Voss, Norway', 'Sauda, Norway', 'Utne, Norway', 'Oslo, Norway']\n",
    "mål_adresser = ['Bømlo Motorsportklubb, Norway', 'Stord Motorsportklubb, Norway', 'Elgane Motorsportklubb, Norway', 'Bybergsanden motocrossbane, Norway', 'Karmøy Motocross Bane, Norway']\n",
    "res = calculate_distance_matrix(start_adresser, mål_adresser)\n",
    "res.to_excel('output_vest_distanse.xlsx')"
   ]
  },
  {
   "cell_type": "markdown",
   "metadata": {},
   "source": [
    "## Utregning transportdistanser Øst \n"
   ]
  },
  {
   "cell_type": "code",
   "execution_count": 13,
   "metadata": {},
   "outputs": [],
   "source": [
    "start_adresser = ['Valdres golfklubb, Norway', 'Melsomvik, Norway', 'Kongsvinger, Norway', 'Asker stasjon, Norway', 'Haslemoen Motocross Bane, Norway','Rena, Norway', 'Kristiansand, Norway', 'Hallingdal Motocrossklubb', 'Eidskog, Norway', 'Vinstra, Norway', 'Hokksund, Norway', 'Trondheim, Norway', 'Molde, Norway', 'Rødberg, Norway', 'Skien, Norway', 'Oslo, Norway', 'Gardermoen, Norway', 'Lunner Motorsport, Norway', 'Siljan, Norway', 'Røros, Norway', 'Finsland, Norway', 'Tydal, Norway', 'Tromsø, Norway', 'Kongsberg, Norway', 'Trysil, Norway', 'Sandvika, Norway', 'Enebakk motorsportklubb, Norway', 'Notodden Motorsportsenter, Norway', 'Solør Motorsenter, Norway', 'Froland, Norway', 'Aurskog, Norway', 'Sigdal, Norway', 'Lier Motorsportklubb, Norway', 'Vennesla, Norway', 'Jevnaker, Norway', 'Giske kirke, Norway', 'Os, Bjørnafjorden', 'Svinndal, Norway', 'Ask, Gjerdrum', 'Lillehammer, Norway', 'Surnadal kulturhus, Norway', 'Oppdal, Norway', 'Vadsø, Norway', 'Rømskog kommunehus, Norway', 'Charlottenberg, Sweden', 'Åsmarka, Norway', 'Sel, Norway', 'Øvre Årdal, Norway', 'Revetal, Norway', 'Hell, Norway', 'Bruvoll, Norway', 'Setesdal folk high school, Norway', 'Elgane Motorsykkelklubb, Norway', 'Elverum, Norway', 'Follo police, Norway', 'Namdalen, Norway', 'Rakkestad, Norway', 'Stranda, Norway', 'Krabyskogen Storbilsenter, Norway']\n",
    "mål_adresser = ['Eidskog, Norway', 'Lunner Motorsport, Norway', 'Aurskog, Norway', 'Åsmarka, Norway', 'Elverum, Norway', 'Gardermoen, Norway']\n",
    "res = calculate_distance_matrix(start_adresser, mål_adresser)\n",
    "res.to_excel('output_ost_distanse.xlsx')"
   ]
  }
 ],
 "metadata": {
  "kernelspec": {
   "display_name": "Python 3",
   "language": "python",
   "name": "python3"
  },
  "language_info": {
   "codemirror_mode": {
    "name": "ipython",
    "version": 3
   },
   "file_extension": ".py",
   "mimetype": "text/x-python",
   "name": "python",
   "nbconvert_exporter": "python",
   "pygments_lexer": "ipython3",
   "version": "3.7.3"
  }
 },
 "nbformat": 4,
 "nbformat_minor": 2
}
